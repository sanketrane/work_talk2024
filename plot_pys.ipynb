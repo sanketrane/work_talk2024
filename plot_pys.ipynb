{
 "cells": [
  {
   "cell_type": "code",
   "execution_count": null,
   "metadata": {},
   "outputs": [],
   "source": [
    "import matplotlib.pyplot as plt\n",
    "import numpy as np"
   ]
  },
  {
   "cell_type": "code",
   "execution_count": null,
   "metadata": {},
   "outputs": [],
   "source": [
    "fig, ax = plt.subplots(figsize=(10, 6), subplot_kw=dict(aspect=\"equal\"))\n",
    "\n",
    "recipe = [\"Genetic diversity among population\", \"Epidemiological hotspots\", \"Cell-state variation\", \"Individual-centric factros: Age, nutrition etc.\", \"T and B cell receptor diversity\", \"Antigen history\", \"? Unknown or unaccounted ?\", \"\", \"Process noise\", \"Immune dynamism\", \"Antigenic drift\"]\n",
    "\n",
    "# Factors controlling immune response variability -- donut chart\n",
    "# Genetic diversity, Epidemiological hotspots, cell-state variation, Individual based factors: Age, nutrition etc.\n",
    "\n",
    "data = [50, 90, 50, 60, 45, 105, 34, 56, 78, 90]\n",
    "\n",
    "wedges, texts = ax.pie(data, wedgeprops=dict(width=0.5), startangle=-40)\n",
    "\n",
    "bbox_props = dict(boxstyle=\"square,pad=0.3\", fc=\"w\", ec=\"k\", lw=0.72)\n",
    "kw = dict(arrowprops=dict(arrowstyle=\"-\"),\n",
    "          bbox=bbox_props, zorder=0, va=\"center\")\n",
    "\n",
    "for i, p in enumerate(wedges):\n",
    "    ang = (p.theta2 - p.theta1)/2. + p.theta1\n",
    "    y = np.sin(np.deg2rad(ang))\n",
    "    x = np.cos(np.deg2rad(ang))\n",
    "    horizontalalignment = {-1: \"right\", 1: \"left\"}[int(np.sign(x))]\n",
    "    connectionstyle = f\"angle,angleA=0,angleB={ang}\"\n",
    "    kw[\"arrowprops\"].update({\"connectionstyle\": connectionstyle})\n",
    "    ax.annotate(recipe[i], xy=(x, y), xytext=(1.35*np.sign(x), 1.4*y),\n",
    "                horizontalalignment=horizontalalignment, **kw)\n",
    "\n",
    "#ax.set_title(\"Matplotlib bakery: A donut\")\n",
    "fig.tight_layout()\n",
    "plt.savefig(\"figures/donut.png\")\n",
    "\n",
    "plt.show()"
   ]
  },
  {
   "cell_type": "code",
   "execution_count": null,
   "metadata": {},
   "outputs": [
    {
     "ename": "",
     "evalue": "",
     "output_type": "error",
     "traceback": [
      "\u001b[1;31mRunning cells with 'Python 3.12.6' requires the ipykernel package.\n",
      "\u001b[1;31mRun the following command to install 'ipykernel' into the Python environment. \n",
      "\u001b[1;31mCommand: '/opt/homebrew/bin/python3 -m pip install ipykernel -U --user --force-reinstall'"
     ]
    }
   ],
   "source": [
    "html_table = \"\"\"\n",
    "<table border=\"1\">\n",
    "    <tr>\n",
    "        <th>Statistics</th>\n",
    "        <th>Ours</th>\n",
    "        <th>ABC-SMC-DRF</th>\n",
    "        <th>ABC-DRF</th>\n",
    "        <th>ABC-SMC</th>\n",
    "    </tr>\n",
    "    <tr>\n",
    "        <td>E(a)</td>\n",
    "        <td>1.1373</td>\n",
    "        <td>1.1215</td>\n",
    "        <td>0.7562</td>\n",
    "        <td>1.2912</td>\n",
    "    </tr>\n",
    "    <tr>\n",
    "        <td>Var(a)</td>\n",
    "        <td>0.0036</td>\n",
    "        <td>0.0333</td>\n",
    "        <td>0.5953</td>\n",
    "        <td>0.1104</td>\n",
    "    </tr>\n",
    "    <tr>\n",
    "        <td>E(b)</td>\n",
    "        <td>1.0829</td>\n",
    "        <td>0.9704</td>\n",
    "        <td>1.3092</td>\n",
    "        <td>1.0269</td>\n",
    "    </tr>\n",
    "    <tr>\n",
    "        <td>Var(b)</td>\n",
    "        <td>0.0036</td>\n",
    "        <td>0.0313</td>\n",
    "        <td>0.3593</td>\n",
    "        <td>0.1049</td>\n",
    "    </tr>\n",
    "</table>\n",
    "\"\"\"\n",
    "\n",
    "print(html_table)"
   ]
  }
 ],
 "metadata": {
  "kernelspec": {
   "display_name": "Python 3",
   "language": "python",
   "name": "python3"
  },
  "language_info": {
   "codemirror_mode": {
    "name": "ipython",
    "version": 3
   },
   "file_extension": ".py",
   "mimetype": "text/x-python",
   "name": "python",
   "nbconvert_exporter": "python",
   "pygments_lexer": "ipython3",
   "version": "3.12.6"
  }
 },
 "nbformat": 4,
 "nbformat_minor": 2
}
